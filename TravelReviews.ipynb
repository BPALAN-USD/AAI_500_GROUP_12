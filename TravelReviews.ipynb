{
 "cells": [
  {
   "cell_type": "markdown",
   "id": "1239a906",
   "metadata": {},
   "source": [
    "# Travel Review Rating"
   ]
  },
  {
   "cell_type": "markdown",
   "id": "9223d9ec",
   "metadata": {},
   "source": [
    "## Usecase & Description\n",
    "\n",
    "-- Details would be added here"
   ]
  },
  {
   "cell_type": "markdown",
   "id": "4959ff83",
   "metadata": {},
   "source": [
    "## 1. Data Readiness"
   ]
  },
  {
   "cell_type": "code",
   "execution_count": null,
   "id": "9dd33292",
   "metadata": {},
   "outputs": [
    {
     "name": "stdout",
     "output_type": "stream",
     "text": [
      "{'uci_id': 485, 'name': 'Travel Review Ratings', 'repository_url': 'https://archive.ics.uci.edu/dataset/485/tarvel+review+ratings', 'data_url': 'https://archive.ics.uci.edu/static/public/485/data.csv', 'abstract': 'Google reviews on attractions from 24 categories across Europe are considered. Google user rating ranges from 1 to 5 and average user rating per category is calculated.', 'area': 'Other', 'tasks': ['Classification', 'Clustering'], 'characteristics': ['Multivariate', 'Text'], 'num_instances': 5456, 'num_features': 24, 'feature_types': ['Real'], 'demographics': [], 'target_col': None, 'index_col': ['userid'], 'has_missing_values': 'no', 'missing_values_symbol': None, 'year_of_dataset_creation': 2018, 'last_updated': 'Tue Apr 09 2024', 'dataset_doi': '10.24432/C5C31Q', 'creators': ['Shini Renjith'], 'intro_paper': {'ID': 466, 'type': 'NATIVE', 'title': 'Evaluation of Partitioning Clustering Algorithms for Processing Social Media Data in Tourism Domain', 'authors': 'Dr. Shini Renjith, A. Sreekumar, M. Jathavedan', 'venue': 'IEEE Recent Advances in Intelligent Computational Systems', 'year': 2018, 'journal': None, 'DOI': None, 'URL': 'https://www.semanticscholar.org/paper/Evaluation-of-Partitioning-Clustering-Algorithms-in-Renjith-Sreekumar/0c667df7f0adb8b15ae1c39e4f5cc2ebad0ce33f', 'sha': None, 'corpus': None, 'arxiv': None, 'mag': None, 'acl': None, 'pmid': None, 'pmcid': None}, 'additional_info': {'summary': 'This data set is populated by capturing user ratings from Google reviews. Reviews on attractions from 24 categories across Europe are considered. Google user rating ranges from 1 to 5 and average user rating per category is calculated. ', 'purpose': None, 'funded_by': None, 'instances_represent': None, 'recommended_data_splits': None, 'sensitive_data': None, 'preprocessing_description': None, 'variable_info': 'Attribute 1 : Unique user id\\r\\nAttribute 2 : Average ratings on churches\\r\\nAttribute 3 : Average ratings on resorts\\r\\nAttribute 4 : Average ratings on beaches\\r\\nAttribute 5 : Average ratings on parks\\r\\nAttribute 6 : Average ratings on theatres\\r\\nAttribute 7 : Average ratings on museums\\r\\nAttribute 8 : Average ratings on malls\\r\\nAttribute 9 : Average ratings on zoo\\r\\nAttribute 10 : Average ratings on restaurants\\r\\nAttribute 11 : Average ratings on pubs/bars\\r\\nAttribute 12 : Average ratings on local services\\r\\nAttribute 13 : Average ratings on burger/pizza shops\\r\\nAttribute 14 : Average ratings on hotels/other lodgings\\r\\nAttribute 15 : Average ratings on juice bars\\r\\nAttribute 16 : Average ratings on art galleries\\r\\nAttribute 17 : Average ratings on dance clubs\\r\\nAttribute 18 : Average ratings on swimming pools\\r\\nAttribute 19 : Average ratings on gyms\\r\\nAttribute 20 : Average ratings on bakeries\\r\\nAttribute 21 : Average ratings on beauty & spas\\r\\nAttribute 22 : Average ratings on cafes\\r\\nAttribute 23 : Average ratings on view points\\r\\nAttribute 24 : Average ratings on monuments\\r\\nAttribute 25 : Average ratings on gardens', 'citation': None}}\n",
      "                     name     role         type demographic description units  \\\n",
      "0                  userid       ID  Categorical        None        None  None   \n",
      "1                churches  Feature   Continuous        None        None  None   \n",
      "2                 resorts  Feature   Continuous        None        None  None   \n",
      "3                 beaches  Feature      Integer        None        None  None   \n",
      "4                   parks  Feature   Continuous        None        None  None   \n",
      "5                theatres  Feature   Continuous        None        None  None   \n",
      "6                 museums  Feature   Continuous        None        None  None   \n",
      "7                   malls  Feature   Continuous        None        None  None   \n",
      "8                    zoos  Feature   Continuous        None        None  None   \n",
      "9             restaurants  Feature      Integer        None        None  None   \n",
      "10              pubs/bars  Feature   Continuous        None        None  None   \n",
      "11         local services  Feature   Continuous        None        None  None   \n",
      "12     burger/pizza shops  Feature   Continuous        None        None  None   \n",
      "13  hotels/other lodgings  Feature   Continuous        None        None  None   \n",
      "14             juice bars  Feature   Continuous        None        None  None   \n",
      "15          art galleries  Feature      Integer        None        None  None   \n",
      "16            dance clubs  Feature   Continuous        None        None  None   \n",
      "17         swimming pools  Feature   Continuous        None        None  None   \n",
      "18                   gyms  Feature   Continuous        None        None  None   \n",
      "19               bakeries  Feature   Continuous        None        None  None   \n",
      "20          beauty & spas  Feature   Continuous        None        None  None   \n",
      "21                  cafes  Feature   Continuous        None        None  None   \n",
      "22            view points  Feature   Continuous        None        None  None   \n",
      "23              monuments  Feature   Continuous        None        None  None   \n",
      "24                gardens  Feature   Continuous        None        None  None   \n",
      "\n",
      "   missing_values  \n",
      "0              no  \n",
      "1              no  \n",
      "2              no  \n",
      "3              no  \n",
      "4              no  \n",
      "5              no  \n",
      "6              no  \n",
      "7              no  \n",
      "8              no  \n",
      "9              no  \n",
      "10             no  \n",
      "11             no  \n",
      "12             no  \n",
      "13             no  \n",
      "14             no  \n",
      "15             no  \n",
      "16             no  \n",
      "17             no  \n",
      "18             no  \n",
      "19             no  \n",
      "20             no  \n",
      "21             no  \n",
      "22             no  \n",
      "23             no  \n",
      "24             no  \n"
     ]
    }
   ],
   "source": [
    "from ucimlrepo import fetch_ucirepo \n",
    "  \n",
    "# fetch dataset \n",
    "travel_review_ratings = fetch_ucirepo(id=485) \n",
    "  \n",
    "# data (as pandas dataframes) \n",
    "X = travel_review_ratings.data.features \n",
    "y = travel_review_ratings.data.targets \n",
    "  \n",
    "# metadata \n",
    "print(travel_review_ratings.metadata) \n",
    "  \n",
    "# variable information \n",
    "print(travel_review_ratings.variables) \n"
   ]
  }
 ],
 "metadata": {
  "kernelspec": {
   "display_name": "base",
   "language": "python",
   "name": "python3"
  },
  "language_info": {
   "codemirror_mode": {
    "name": "ipython",
    "version": 3
   },
   "file_extension": ".py",
   "mimetype": "text/x-python",
   "name": "python",
   "nbconvert_exporter": "python",
   "pygments_lexer": "ipython3",
   "version": "3.12.7"
  }
 },
 "nbformat": 4,
 "nbformat_minor": 5
}
